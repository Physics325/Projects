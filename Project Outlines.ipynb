{
 "cells": [
  {
   "cell_type": "markdown",
   "metadata": {},
   "source": [
    "Steps for outlining your project: \n",
    "\n",
    "1. Identify general area  (Wed at the latest)\n",
    "\n",
    "2. Write down relevant controlling equation\n",
    "\n",
    "3. Clarify specific scenario to be simulated\n",
    "\n",
    "4. Write down boundary conditions for that scenario\n",
    "\n",
    "5. Outline specific results to be obtained\n",
    "    * describe the situation you are going to simulate \n",
    "    * describe the output you expect to generate\n",
    "    * Describe how you can verify that your results are correct or reasonable\n",
    "\n",
    "6. Create a rough outline of major steps you have to take and a schedule for accomplishing them. (by Fri?)\n",
    "\n",
    "\n"
   ]
  },
  {
   "cell_type": "code",
   "execution_count": null,
   "metadata": {
    "collapsed": true
   },
   "outputs": [],
   "source": []
  }
 ],
 "metadata": {
  "kernelspec": {
   "display_name": "Python 3",
   "language": "python",
   "name": "python3"
  },
  "language_info": {
   "codemirror_mode": {
    "name": "ipython",
    "version": 3
   },
   "file_extension": ".py",
   "mimetype": "text/x-python",
   "name": "python",
   "nbconvert_exporter": "python",
   "pygments_lexer": "ipython3",
   "version": "3.5.1"
  }
 },
 "nbformat": 4,
 "nbformat_minor": 0
}
